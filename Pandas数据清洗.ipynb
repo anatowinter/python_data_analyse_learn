{
 "cells": [
  {
   "cell_type": "markdown",
   "id": "aeb4fc1f",
   "metadata": {},
   "source": [
    "# 查看处理缺失值\n",
    "缺失值指的是数据中空的部分，可以对其删除，填充或替换，以及插值（均值，中位数等）\n",
    "## 查看缺失值\n",
    "使用info查看概况"
   ]
  },
  {
   "cell_type": "code",
   "execution_count": 1,
   "id": "8cd10938",
   "metadata": {},
   "outputs": [
    {
     "name": "stdout",
     "output_type": "stream",
     "text": [
      "  买家会员名  买家实际支付金额  宝贝总数量                     宝贝标题   \\\n",
      "0      mr001            143.50         2.0                Python黄金组合   \n",
      "1      mr002             78.80         1.0                Python编程锦囊   \n",
      "2      mr003             48.86         1.0                 零基础学C语言   \n",
      "3      mr004             81.75         NaN  SQL Server应用与开发范例宝典   \n",
      "4      mr005            299.00         1.0          Python程序开发资源库   \n",
      "5      mr006             41.86         1.0                零基础学Python   \n",
      "6      mr007             55.86         1.0            C语言精彩编程200例   \n",
      "7      mr008             41.86         NaN         C语言项目开发实战入门   \n",
      "8      mr009             41.86         1.0          Java项目开发实战入门   \n",
      "9      mr010             34.86         1.0                   SQL即查即用   \n",
      "\n",
      "   类别        订单付款时间  \n",
      "0  图书 2018-10-09 22:54:26  \n",
      "1   NaN 2018-10-09 22:52:42  \n",
      "2  图书 2018-01-19 12:53:01  \n",
      "3  图书 2018-06-30 11:46:14  \n",
      "4   NaN 2018-03-23 18:25:45  \n",
      "5  图书 2018-03-24 19:25:45  \n",
      "6  图书 2018-03-25 11:00:45  \n",
      "7  图书 2018-03-26 23:11:11  \n",
      "8  图书 2018-03-27 07:25:30  \n",
      "9  图书 2018-03-28 18:09:12  \n",
      "<class 'pandas.core.frame.DataFrame'>\n",
      "RangeIndex: 10 entries, 0 to 9\n",
      "Data columns (total 6 columns):\n",
      " #   Column    Non-Null Count  Dtype         \n",
      "---  ------    --------------  -----         \n",
      " 0   买家会员名     10 non-null     object        \n",
      " 1   买家实际支付金额  10 non-null     float64       \n",
      " 2   宝贝总数量     8 non-null      float64       \n",
      " 3   宝贝标题      10 non-null     object        \n",
      " 4   类别        8 non-null      object        \n",
      " 5   订单付款时间    10 non-null     datetime64[ns]\n",
      "dtypes: datetime64[ns](1), float64(2), object(3)\n",
      "memory usage: 608.0+ bytes\n",
      "None\n"
     ]
    }
   ],
   "source": [
    "import pandas as pd\n",
    "#以下两行代码将表格对齐\n",
    "pd.set_option('display.unicode.east_asian_width',True)\n",
    "pd.set_option('display.unicode.ambiguous_as_wide',True)\n",
    "df = pd.read_excel('Code/03/37/TB2018.xls')\n",
    "print(df)\n",
    "print(df.info())"
   ]
  },
  {
   "cell_type": "markdown",
   "id": "7e251bec",
   "metadata": {},
   "source": [
    "与缺失值有关的是两个方法，分别是isnull和notnull"
   ]
  },
  {
   "cell_type": "code",
   "execution_count": 2,
   "id": "953d7543",
   "metadata": {},
   "outputs": [
    {
     "name": "stdout",
     "output_type": "stream",
     "text": [
      "   买家会员名  买家实际支付金额  宝贝总数量  宝贝标题    类别  订单付款时间\n",
      "0       False             False       False      False  False         False\n",
      "1       False             False       False      False   True         False\n",
      "2       False             False       False      False  False         False\n",
      "3       False             False        True      False  False         False\n",
      "4       False             False       False      False   True         False\n",
      "5       False             False       False      False  False         False\n",
      "6       False             False       False      False  False         False\n",
      "7       False             False        True      False  False         False\n",
      "8       False             False       False      False  False         False\n",
      "9       False             False       False      False  False         False\n",
      "   买家会员名  买家实际支付金额  宝贝总数量  宝贝标题    类别  订单付款时间\n",
      "0        True              True        True       True   True          True\n",
      "1        True              True        True       True  False          True\n",
      "2        True              True        True       True   True          True\n",
      "3        True              True       False       True   True          True\n",
      "4        True              True        True       True  False          True\n",
      "5        True              True        True       True   True          True\n",
      "6        True              True        True       True   True          True\n",
      "7        True              True       False       True   True          True\n",
      "8        True              True        True       True   True          True\n",
      "9        True              True        True       True   True          True\n"
     ]
    }
   ],
   "source": [
    "print(df.isnull())\n",
    "print(df.notnull())"
   ]
  },
  {
   "cell_type": "markdown",
   "id": "3d998301",
   "metadata": {},
   "source": [
    "isnull() 缺失值返回True;非缺失值返回False\n",
    "notnull() 缺失值返回False；非缺失值返回True"
   ]
  },
  {
   "cell_type": "markdown",
   "id": "e9ffff93",
   "metadata": {},
   "source": [
    "## 删除缺失值"
   ]
  },
  {
   "cell_type": "code",
   "execution_count": 3,
   "id": "cb203939",
   "metadata": {},
   "outputs": [
    {
     "name": "stdout",
     "output_type": "stream",
     "text": [
      "  买家会员名  买家实际支付金额  宝贝总数量             宝贝标题   类别  \\\n",
      "0      mr001            143.50         2.0        Python黄金组合  图书   \n",
      "2      mr003             48.86         1.0         零基础学C语言  图书   \n",
      "5      mr006             41.86         1.0        零基础学Python  图书   \n",
      "6      mr007             55.86         1.0    C语言精彩编程200例  图书   \n",
      "8      mr009             41.86         1.0  Java项目开发实战入门  图书   \n",
      "9      mr010             34.86         1.0           SQL即查即用  图书   \n",
      "\n",
      "         订单付款时间  \n",
      "0 2018-10-09 22:54:26  \n",
      "2 2018-01-19 12:53:01  \n",
      "5 2018-03-24 19:25:45  \n",
      "6 2018-03-25 11:00:45  \n",
      "8 2018-03-27 07:25:30  \n",
      "9 2018-03-28 18:09:12  \n"
     ]
    }
   ],
   "source": [
    "df.dropna(inplace=True)\n",
    "print(df)"
   ]
  },
  {
   "cell_type": "markdown",
   "id": "8620089a",
   "metadata": {},
   "source": [
    "对于不应删除掉的部分，可以使用另外的方法进行操作\n",
    "如只想针对“宝贝总数量”中的nan进行操作可以使用下面的方法"
   ]
  },
  {
   "cell_type": "code",
   "execution_count": 4,
   "id": "cc6c45b0",
   "metadata": {},
   "outputs": [
    {
     "name": "stdout",
     "output_type": "stream",
     "text": [
      "  买家会员名  买家实际支付金额  宝贝总数量             宝贝标题   类别  \\\n",
      "0      mr001            143.50         2.0        Python黄金组合  图书   \n",
      "1      mr002             78.80         1.0        Python编程锦囊   NaN   \n",
      "2      mr003             48.86         1.0         零基础学C语言  图书   \n",
      "4      mr005            299.00         1.0  Python程序开发资源库   NaN   \n",
      "5      mr006             41.86         1.0        零基础学Python  图书   \n",
      "6      mr007             55.86         1.0    C语言精彩编程200例  图书   \n",
      "8      mr009             41.86         1.0  Java项目开发实战入门  图书   \n",
      "9      mr010             34.86         1.0           SQL即查即用  图书   \n",
      "\n",
      "         订单付款时间  \n",
      "0 2018-10-09 22:54:26  \n",
      "1 2018-10-09 22:52:42  \n",
      "2 2018-01-19 12:53:01  \n",
      "4 2018-03-23 18:25:45  \n",
      "5 2018-03-24 19:25:45  \n",
      "6 2018-03-25 11:00:45  \n",
      "8 2018-03-27 07:25:30  \n",
      "9 2018-03-28 18:09:12  \n"
     ]
    }
   ],
   "source": [
    "df = pd.read_excel('Code/03/37/TB2018.xls')\n",
    "df1 = df[df['宝贝总数量'].notnull()]\n",
    "print(df1)"
   ]
  },
  {
   "cell_type": "markdown",
   "id": "459f98e6",
   "metadata": {},
   "source": [
    "## 将NaN填充为0"
   ]
  },
  {
   "cell_type": "code",
   "execution_count": 5,
   "id": "2cb7a370",
   "metadata": {},
   "outputs": [
    {
     "name": "stdout",
     "output_type": "stream",
     "text": [
      "  买家会员名  买家实际支付金额  宝贝总数量                     宝贝标题   \\\n",
      "0      mr001            143.50         2.0                Python黄金组合   \n",
      "1      mr002             78.80         1.0                Python编程锦囊   \n",
      "2      mr003             48.86         1.0                 零基础学C语言   \n",
      "3      mr004             81.75         0.0  SQL Server应用与开发范例宝典   \n",
      "4      mr005            299.00         1.0          Python程序开发资源库   \n",
      "5      mr006             41.86         1.0                零基础学Python   \n",
      "6      mr007             55.86         1.0            C语言精彩编程200例   \n",
      "7      mr008             41.86         0.0         C语言项目开发实战入门   \n",
      "8      mr009             41.86         1.0          Java项目开发实战入门   \n",
      "9      mr010             34.86         1.0                   SQL即查即用   \n",
      "\n",
      "   类别        订单付款时间  \n",
      "0  图书 2018-10-09 22:54:26  \n",
      "1   NaN 2018-10-09 22:52:42  \n",
      "2  图书 2018-01-19 12:53:01  \n",
      "3  图书 2018-06-30 11:46:14  \n",
      "4   NaN 2018-03-23 18:25:45  \n",
      "5  图书 2018-03-24 19:25:45  \n",
      "6  图书 2018-03-25 11:00:45  \n",
      "7  图书 2018-03-26 23:11:11  \n",
      "8  图书 2018-03-27 07:25:30  \n",
      "9  图书 2018-03-28 18:09:12  \n"
     ]
    }
   ],
   "source": [
    "df['宝贝总数量'] = df['宝贝总数量'].fillna(0)\n",
    "print(df)"
   ]
  },
  {
   "cell_type": "code",
   "execution_count": null,
   "id": "dfae67ab",
   "metadata": {},
   "outputs": [],
   "source": []
  }
 ],
 "metadata": {
  "kernelspec": {
   "display_name": "Python 3",
   "language": "python",
   "name": "python3"
  },
  "language_info": {
   "codemirror_mode": {
    "name": "ipython",
    "version": 3
   },
   "file_extension": ".py",
   "mimetype": "text/x-python",
   "name": "python",
   "nbconvert_exporter": "python",
   "pygments_lexer": "ipython3",
   "version": "3.8.8"
  }
 },
 "nbformat": 4,
 "nbformat_minor": 5
}
