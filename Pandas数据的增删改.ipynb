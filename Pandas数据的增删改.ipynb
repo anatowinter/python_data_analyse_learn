{
 "cells": [
  {
   "cell_type": "markdown",
   "id": "e467e1b4",
   "metadata": {},
   "source": [
    "# 最前面的思考\n",
    "对于Pandas来说，Series对应的是list，而DataFrame相对来说，虽然能与dict相对应，但是拥有列标题和行标题，与dict的结构有较大的差别\n",
    "DataFrame是由Series竖起来，横向拼接起来的结构"
   ]
  },
  {
   "cell_type": "markdown",
   "id": "9ede027c",
   "metadata": {},
   "source": [
    "# 数据的添加\n"
   ]
  },
  {
   "cell_type": "markdown",
   "id": "153f49d4",
   "metadata": {},
   "source": [
    "## 按列添加\n",
    "### 直接对DataFrame赋值"
   ]
  },
  {
   "cell_type": "code",
   "execution_count": null,
   "id": "f7971cc9",
   "metadata": {},
   "outputs": [],
   "source": [
    "import pandas as pd\n",
    "pd.set_option('display.unicode.east_asian_width',True)\n",
    "data = [[110,105,99],[105,88,115],[109,120,130],[112,115,140]]\n",
    "name = ['明日','七月流火','高袁员','二月二']\n",
    "columns = ['语文','数学','英语']\n",
    "df = pd.DataFrame(data=data,index=name,columns=columns)\n",
    "# 直接在最后面加入了一个Series\n",
    "df['物理'] = [88,79,60,50]\n",
    "print(df)"
   ]
  },
  {
   "cell_type": "markdown",
   "id": "802ac0e7",
   "metadata": {},
   "source": [
    "### 使用loc这一方法添加\n",
    "loc这一方法是可以用来标定pd在DataFrame中的位置的，即利用loc这一方法对DataFrame中的某一位置进行赋值"
   ]
  },
  {
   "cell_type": "code",
   "execution_count": null,
   "id": "cbb0deca",
   "metadata": {},
   "outputs": [],
   "source": [
    "df.loc[:,'物理'] = [88,79,60,50] #添加的是新列\n",
    "print(df)"
   ]
  },
  {
   "cell_type": "markdown",
   "id": "e6230014",
   "metadata": {},
   "source": [
    "### 使用insert方法插入\n",
    "不同于loc方法，使用insert"
   ]
  },
  {
   "cell_type": "code",
   "execution_count": null,
   "id": "0d31ba58",
   "metadata": {},
   "outputs": [],
   "source": [
    "df1 = pd.DataFrame(data=data,index=name,columns=columns)\n",
    "wl_data = [88,79,60,50]\n",
    "df1.insert(1,'物理',wl_data)\n",
    "print(df1)"
   ]
  },
  {
   "cell_type": "markdown",
   "id": "ce751449",
   "metadata": {},
   "source": [
    "## 按行添加\n",
    "### 使用loc\n",
    "loc的赋值同上"
   ]
  },
  {
   "cell_type": "code",
   "execution_count": null,
   "id": "7d626a44",
   "metadata": {},
   "outputs": [],
   "source": [
    "df2 = pd.DataFrame(data=data,index=name,columns=columns)\n",
    "df2.loc['钱多多'] = [100,120,99]\n",
    "print(df2)"
   ]
  },
  {
   "cell_type": "markdown",
   "id": "3395f570",
   "metadata": {},
   "source": [
    "## 添加多行\n",
    "### 使用append添加一个dict"
   ]
  },
  {
   "cell_type": "code",
   "execution_count": null,
   "id": "8681ede2",
   "metadata": {},
   "outputs": [],
   "source": [
    "df_append = pd.DataFrame({'语文':[123,138],'数学':[142,60],'英语':[139,99]},index=['童年','无名'])\n",
    "df3 = df2.append(df_append)\n",
    "print(df3)"
   ]
  },
  {
   "cell_type": "markdown",
   "id": "bb65d63e",
   "metadata": {},
   "source": [
    "## 增添数据小结\n",
    "可以看到，DataFrame更多的是类似一个一个竖着的Series拼接而成的，当需要添加数据的时候，均可以利用loc方法直接赋值得到\n",
    "对于列的增加，可以使用insert在任意制定位置增加\n",
    "对于行的增加，使用append更类似与在列表的最后增加一个"
   ]
  },
  {
   "cell_type": "markdown",
   "id": "a00f201b",
   "metadata": {},
   "source": [
    "# 修改数据"
   ]
  },
  {
   "cell_type": "markdown",
   "id": "c3e190a5",
   "metadata": {},
   "source": [
    "## 修改列标题\n",
    "### 直接用columns方法赋值"
   ]
  },
  {
   "cell_type": "code",
   "execution_count": null,
   "id": "4ce543ba",
   "metadata": {},
   "outputs": [],
   "source": [
    "df = pd.DataFrame(data=data,index=name,columns=columns) #重置一下数据\n",
    "df.columns = ['语文','数学','英语（上）']\n",
    "print(df)"
   ]
  },
  {
   "cell_type": "markdown",
   "id": "48a598f8",
   "metadata": {},
   "source": [
    "### 使用 DataFrame对象中rename方法"
   ]
  },
  {
   "cell_type": "code",
   "execution_count": null,
   "id": "3ec5cbbf",
   "metadata": {},
   "outputs": [],
   "source": [
    "df.rename(columns = {'语文':'语文（上)','数学':'数学（上）','英语（上）':'英语（上）'},inplace=True)\n",
    "print(df)"
   ]
  },
  {
   "cell_type": "markdown",
   "id": "0f2d4708",
   "metadata": {},
   "source": [
    "## 修改行标题\n",
    "使用列表或者是rename"
   ]
  },
  {
   "cell_type": "code",
   "execution_count": null,
   "id": "c073bc8a",
   "metadata": {},
   "outputs": [],
   "source": [
    "df = pd.DataFrame(data=data,index=name,columns=columns) #重置一下数据\n",
    "df.index = list('1234')\n",
    "print(df)"
   ]
  },
  {
   "cell_type": "code",
   "execution_count": null,
   "id": "2bf74dd7",
   "metadata": {},
   "outputs": [],
   "source": [
    "df = pd.DataFrame(data=data,index=name,columns=columns) #重置一下数据\n",
    "df.rename({'明日':1,'七月流火':2,'高袁员':3,'二月二':4},axis=0,inplace=True)\n",
    "print(df)"
   ]
  },
  {
   "cell_type": "markdown",
   "id": "353204d1",
   "metadata": {},
   "source": [
    "## 修改标题部分小结\n",
    "对于标题部分的修改主要可以利用赋值的方式进行修改，rename方法过于复杂，可能在某些情况下适用"
   ]
  },
  {
   "cell_type": "markdown",
   "id": "78507ec0",
   "metadata": {},
   "source": [
    "## 修改数据\n",
    "### 修改整行"
   ]
  },
  {
   "cell_type": "code",
   "execution_count": null,
   "id": "f5e9d06f",
   "metadata": {},
   "outputs": [],
   "source": [
    "df = pd.DataFrame(data=data,index=name,columns=columns) #重置一下数据\n",
    "df.loc['明日'] += 10\n"
   ]
  },
  {
   "cell_type": "markdown",
   "id": "bc8b5f8a",
   "metadata": {},
   "source": [
    "### 修改整列"
   ]
  },
  {
   "cell_type": "code",
   "execution_count": null,
   "id": "b3c10c0e",
   "metadata": {},
   "outputs": [],
   "source": [
    "df.loc[:,'语文'] -= 10\n"
   ]
  },
  {
   "cell_type": "markdown",
   "id": "6af34bfa",
   "metadata": {},
   "source": [
    "另：还可使用iloc通过输入标号来更改"
   ]
  },
  {
   "cell_type": "markdown",
   "id": "48820248",
   "metadata": {},
   "source": [
    "# 删除数据\n",
    "使用drop方法"
   ]
  },
  {
   "cell_type": "code",
   "execution_count": null,
   "id": "50ba92e6",
   "metadata": {},
   "outputs": [],
   "source": [
    "df = pd.DataFrame(data=data,index=name,columns=columns) #重置一下数据\n",
    "df.drop(['数学'],axis=1,inplace=True)   #删除某列\n",
    "#还可以使用columns,labels等来删除\n",
    "# df.drop(columns='数学',inplace=True)\n",
    "# df.drop(labels='数学',axis=1,inplace=True)\n",
    "#df.drop(['明月'],inplace=True) # 删除某行\n",
    "#还可以使用index和labels"
   ]
  }
 ],
 "metadata": {
  "kernelspec": {
   "display_name": "Python 3",
   "language": "python",
   "name": "python3"
  },
  "language_info": {
   "codemirror_mode": {
    "name": "ipython",
    "version": 3
   },
   "file_extension": ".py",
   "mimetype": "text/x-python",
   "name": "python",
   "nbconvert_exporter": "python",
   "pygments_lexer": "ipython3",
   "version": "3.8.8"
  }
 },
 "nbformat": 4,
 "nbformat_minor": 5
}
