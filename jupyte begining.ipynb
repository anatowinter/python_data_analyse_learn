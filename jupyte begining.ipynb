{
 "cells": [
  {
   "cell_type": "markdown",
   "id": "02542984",
   "metadata": {},
   "source": [
    "# 如何启动jupyter\n",
    "在所要创建notebook的文件家中使用cmd，输入jupyter-notebook"
   ]
  },
  {
   "cell_type": "markdown",
   "id": "4c48864a",
   "metadata": {},
   "source": [
    "# 如何创建新的notebook\n",
    "在home的右上角点击new，点击new下面的python3"
   ]
  }
 ],
 "metadata": {
  "kernelspec": {
   "display_name": "Python 3",
   "language": "python",
   "name": "python3"
  },
  "language_info": {
   "codemirror_mode": {
    "name": "ipython",
    "version": 3
   },
   "file_extension": ".py",
   "mimetype": "text/x-python",
   "name": "python",
   "nbconvert_exporter": "python",
   "pygments_lexer": "ipython3",
   "version": "3.8.8"
  }
 },
 "nbformat": 4,
 "nbformat_minor": 5
}
